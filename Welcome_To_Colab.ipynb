{
  "cells": [
    {
      "cell_type": "markdown",
      "metadata": {
        "id": "view-in-github",
        "colab_type": "text"
      },
      "source": [
        "<a href=\"https://colab.research.google.com/github/Olabama14/skills-introduction-to-github/blob/main/Welcome_To_Colab.ipynb\" target=\"_parent\"><img src=\"https://colab.research.google.com/assets/colab-badge.svg\" alt=\"Open In Colab\"/></a>"
      ]
    },
    {
      "cell_type": "code",
      "source": [
        "import os\n",
        "os.listdir()\n",
        "\n",
        "# Data Concatenation (Stacking)\n",
        "import pandas as pd\n",
        "\n",
        "sales_data1 = pd.read_csv('sales_data1_homework.csv')\n",
        "sales_data2 = pd.read_csv('sales_data2_homework.csv')\n",
        "\n",
        "combined_sales_data = pd.concat([sales_data1, sales_data2])\n",
        "print(combined_sales_data)"
      ],
      "metadata": {
        "id": "QQRS08G-r6Uk",
        "outputId": "c8474003-00a6-4ac2-9f77-67f804fe5583",
        "colab": {
          "base_uri": "https://localhost:8080/"
        }
      },
      "execution_count": 1,
      "outputs": [
        {
          "output_type": "stream",
          "name": "stdout",
          "text": [
            "   OrderID  CustomerID  ProductID  Quantity   OrderDate\n",
            "0     1011          11        111         4  11/08/2024\n",
            "1     1012          12        112         3  12/08/2024\n",
            "2     1013          13        113         2  13/08/2024\n",
            "3     1014          14        114         6  14/08/2024\n",
            "4     1015          15        115         1  15/08/2024\n",
            "0     1016          16        116         5  16/08/2024\n",
            "1     1017          17        117         2  17/08/2024\n",
            "2     1018          18        118         4  18/08/2024\n",
            "3     1019          19        119         3  19/08/2024\n",
            "4     1020          20        120         7  20/08/2024\n"
          ]
        }
      ]
    },
    {
      "cell_type": "code",
      "source": [
        "# Merging/Joining\n",
        "\n",
        "customer_data = pd.read_csv('customer_data_homework.csv')\n",
        "merged_data = pd.merge(combined_sales_data, customer_data, on='CustomerID', how='inner')\n",
        "\n",
        "print(merged_data)\n",
        "\n",
        "\n"
      ],
      "metadata": {
        "id": "js9s72E-s81X",
        "outputId": "2bab0b51-44a8-48cb-e8f8-97ef1058992d",
        "colab": {
          "base_uri": "https://localhost:8080/"
        }
      },
      "execution_count": 2,
      "outputs": [
        {
          "output_type": "stream",
          "name": "stdout",
          "text": [
            "   OrderID  CustomerID  ProductID  Quantity   OrderDate   CustomerName  \\\n",
            "0     1011          11        111         4  11/08/2024     Alice Blue   \n",
            "1     1012          12        112         3  12/08/2024      Bob Green   \n",
            "2     1013          13        113         2  13/08/2024      Clara Red   \n",
            "3     1014          14        114         6  14/08/2024  Daniel Yellow   \n",
            "4     1015          15        115         1  15/08/2024      Eve Brown   \n",
            "5     1016          16        116         5  16/08/2024   Frank Purple   \n",
            "6     1017          17        117         2  17/08/2024     Gina White   \n",
            "7     1018          18        118         4  18/08/2024    Henry Black   \n",
            "8     1019          19        119         3  19/08/2024       Ivy Pink   \n",
            "9     1020          20        120         7  20/08/2024      Jack Grey   \n",
            "\n",
            "  ContactName    Country  \n",
            "0       Alice        USA  \n",
            "1         Bob     Canada  \n",
            "2       Clara        USA  \n",
            "3      Daniel         UK  \n",
            "4         Eve  Australia  \n",
            "5       Frank        USA  \n",
            "6        Gina     Canada  \n",
            "7       Henry        USA  \n",
            "8         Ivy         UK  \n",
            "9        Jack  Australia  \n"
          ]
        }
      ]
    }
  ],
  "metadata": {
    "colab": {
      "name": "Welcome To Colab",
      "provenance": [],
      "include_colab_link": true
    },
    "kernelspec": {
      "display_name": "Python 3",
      "name": "python3"
    }
  },
  "nbformat": 4,
  "nbformat_minor": 0
}